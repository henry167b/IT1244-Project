{
 "cells": [
  {
   "cell_type": "code",
   "execution_count": 1,
   "metadata": {},
   "outputs": [
    {
     "name": "stderr",
     "output_type": "stream",
     "text": [
      "[nltk_data] Downloading package punkt to C:\\Users\\Josiah\n",
      "[nltk_data]     Lee\\AppData\\Roaming\\nltk_data...\n",
      "[nltk_data]   Package punkt is already up-to-date!\n",
      "[nltk_data] Downloading package stopwords to C:\\Users\\Josiah\n",
      "[nltk_data]     Lee\\AppData\\Roaming\\nltk_data...\n",
      "[nltk_data]   Package stopwords is already up-to-date!\n"
     ]
    }
   ],
   "source": [
    "#import libraries\n",
    "import pandas as pd\n",
    "import re\n",
    "from sklearn.model_selection import train_test_split\n",
    "import nltk\n",
    "nltk.download('punkt')\n",
    "nltk.download('stopwords')\n",
    "import spacy\n",
    "from sklearn.feature_extraction.text import CountVectorizer"
   ]
  },
  {
   "cell_type": "code",
   "execution_count": 2,
   "metadata": {},
   "outputs": [],
   "source": [
    "data = pd.DataFrame(pd.read_csv('Twitter Sentiment/cleaned_text.csv'))\n",
    "\n",
    "def helper(string):\n",
    "    temp = []\n",
    "    for word in string[1:-1].split(','):\n",
    "        word = word.strip()\n",
    "        word = word[1:-1]\n",
    "        if word:\n",
    "          temp.append(word)  \n",
    "    return temp\n",
    "data.filtered_tokens = data.filtered_tokens.apply(helper)"
   ]
  },
  {
   "cell_type": "code",
   "execution_count": 4,
   "metadata": {},
   "outputs": [
    {
     "name": "stdout",
     "output_type": "stream",
     "text": [
      "       illustrated  opportunity  gttin  circling  balled  emirgan  understory  \\\n",
      "0                0            0      0         0       0        0           0   \n",
      "1                0            0      0         0       0        0           0   \n",
      "2                0            0      0         0       0        0           0   \n",
      "3                0            0      0         0       0        0           0   \n",
      "4                0            0      0         0       0        0           0   \n",
      "...            ...          ...    ...       ...     ...      ...         ...   \n",
      "99995            0            0      0         0       0        0           0   \n",
      "99996            0            0      0         0       0        0           0   \n",
      "99997            0            0      0         0       0        0           0   \n",
      "99998            0            0      0         0       0        0           0   \n",
      "99999            0            0      0         0       0        0           0   \n",
      "\n",
      "       summer  installer  dere  ...  studiezzzz  makingfunofbands  rancho  \\\n",
      "0           0          0     0  ...           0                 0       0   \n",
      "1           0          0     0  ...           0                 0       0   \n",
      "2           0          0     0  ...           0                 0       0   \n",
      "3           0          0     0  ...           0                 0       0   \n",
      "4           0          0     0  ...           0                 0       0   \n",
      "...       ...        ...   ...  ...         ...               ...     ...   \n",
      "99995       0          0     0  ...           0                 0       0   \n",
      "99996       0          0     0  ...           0                 0       0   \n",
      "99997       0          0     0  ...           0                 0       0   \n",
      "99998       0          0     0  ...           0                 0       0   \n",
      "99999       0          0     0  ...           0                 0       0   \n",
      "\n",
      "       murni  chef  dayz  prove  await  \\\n",
      "0          0     0     0      0      0   \n",
      "1          0     0     0      0      0   \n",
      "2          0     0     0      0      0   \n",
      "3          0     0     0      0      0   \n",
      "4          0     0     0      0      0   \n",
      "...      ...   ...   ...    ...    ...   \n",
      "99995      0     0     0      0      0   \n",
      "99996      0     0     0      0      0   \n",
      "99997      0     0     0      0      0   \n",
      "99998      0     0     0      0      0   \n",
      "99999      0     0     0      0      0   \n",
      "\n",
      "       hjdjjsiurjhjfhoipwplkjdhjdhhjhjdxdhueuhrjjjjjaaayyyyyyyyyyyy  \\\n",
      "0                                                      0              \n",
      "1                                                      0              \n",
      "2                                                      0              \n",
      "3                                                      0              \n",
      "4                                                      0              \n",
      "...                                                  ...              \n",
      "99995                                                  0              \n",
      "99996                                                  0              \n",
      "99997                                                  0              \n",
      "99998                                                  0              \n",
      "99999                                                  0              \n",
      "\n",
      "       chillinggg  \n",
      "0               0  \n",
      "1               0  \n",
      "2               0  \n",
      "3               0  \n",
      "4               0  \n",
      "...           ...  \n",
      "99995           0  \n",
      "99996           0  \n",
      "99997           0  \n",
      "99998           0  \n",
      "99999           0  \n",
      "\n",
      "[100000 rows x 50661 columns]\n"
     ]
    }
   ],
   "source": [
    "# One hot encoding\n",
    "categories = list(set([item for sublist in data.filtered_tokens for item in sublist]))\n",
    "#print(categories)\n",
    "\n",
    "vectorizer = CountVectorizer(binary=True, vocabulary=categories)\n",
    "sentences = [' '.join(words) for words in data['filtered_tokens']]\n",
    "\n",
    "# Fit and transform the sentences\n",
    "one_hot_encoded = vectorizer.fit_transform(sentences)\n",
    "\n",
    "# Convert the one-hot encoded data to a DataFrame\n",
    "encoded_df = pd.DataFrame(one_hot_encoded.toarray(), columns = categories)\n",
    "\n",
    "# use the print function to check if the one hot encoding is correct\n",
    "#print(encoded_df.iloc[954,:].sum(),sentences[954]) \n",
    "print(encoded_df)\n",
    "#print(categories)\n"
   ]
  },
  {
   "cell_type": "code",
   "execution_count": 4,
   "metadata": {},
   "outputs": [
    {
     "name": "stdout",
     "output_type": "stream",
     "text": [
      "(50000, 8)\n",
      "(50000, 50661)\n"
     ]
    }
   ],
   "source": [
    "data = data.iloc[25000:75000]\n",
    "encoded_df = encoded_df.iloc[25000:75000]\n",
    "\n",
    "print(data.shape)\n",
    "print(encoded_df.shape)"
   ]
  },
  {
   "cell_type": "markdown",
   "metadata": {},
   "source": [
    "josiah added this"
   ]
  },
  {
   "cell_type": "code",
   "execution_count": 5,
   "metadata": {},
   "outputs": [],
   "source": [
    "from sklearn.model_selection import train_test_split\n",
    "\n",
    "X_train, X_test, y_train, y_test = train_test_split(encoded_df, data['labels'], stratify = data['labels'], test_size=0.2, random_state=42)"
   ]
  },
  {
   "cell_type": "code",
   "execution_count": 44,
   "metadata": {},
   "outputs": [],
   "source": [
    "from sklearn.feature_selection import chi2\n",
    "from sklearn.feature_selection import SelectKBest\n",
    "test = SelectKBest(score_func=chi2, k=2000)\n",
    "\n",
    "X_train_new = test.fit_transform(X_train, y_train)"
   ]
  },
  {
   "cell_type": "code",
   "execution_count": 45,
   "metadata": {},
   "outputs": [
    {
     "data": {
      "text/plain": [
       "RandomForestClassifier(n_estimators=10, random_state=42)"
      ]
     },
     "execution_count": 45,
     "metadata": {},
     "output_type": "execute_result"
    }
   ],
   "source": [
    "from sklearn.ensemble import RandomForestClassifier\n",
    "\n",
    "rf_classifier = RandomForestClassifier(n_estimators=10, random_state=42)\n",
    "rf_classifier.fit(X_train_new, y_train)\n"
   ]
  },
  {
   "cell_type": "code",
   "execution_count": 46,
   "metadata": {},
   "outputs": [],
   "source": [
    "X_test_new = test.transform(X_test)"
   ]
  },
  {
   "cell_type": "code",
   "execution_count": 35,
   "metadata": {},
   "outputs": [
    {
     "name": "stdout",
     "output_type": "stream",
     "text": [
      "[1 0 1 1 1 1 1 1 0 1 1 1 1 0 1 1 1 1 1 1 1 1 1 1 1 1 1 1 0 1 1 0 1 0 1 1 1\n",
      " 1 1 1 1 1 0 1 1 0 1 1 1 1 1 1 0 1 1 1 1 1 0 0 1 1 1 1 1 1 1 1 1 1 1 1 1 1\n",
      " 1 1 0 1 1 1 1 1 1 1 1 1 1 1 1 1 1 1 1 1 0 1 1 1 1 1]\n"
     ]
    }
   ],
   "source": [
    "print(y_pred[0:100])"
   ]
  },
  {
   "cell_type": "code",
   "execution_count": 47,
   "metadata": {},
   "outputs": [
    {
     "name": "stdout",
     "output_type": "stream",
     "text": [
      "Accuracy: 0.72\n",
      "              precision    recall  f1-score   support\n",
      "\n",
      "           0       0.72      0.70      0.71      5000\n",
      "           1       0.71      0.73      0.72      5000\n",
      "\n",
      "    accuracy                           0.72     10000\n",
      "   macro avg       0.72      0.72      0.72     10000\n",
      "weighted avg       0.72      0.72      0.72     10000\n",
      "\n"
     ]
    }
   ],
   "source": [
    "from sklearn.metrics import accuracy_score, classification_report\n",
    "\n",
    "y_pred = rf_classifier.predict(X_test_new)\n",
    "accuracy = accuracy_score(y_test, y_pred)\n",
    "print(f'Accuracy: {accuracy:.2f}')\n",
    "\n",
    "# You can also print a classification report for more details\n",
    "print(classification_report(y_test, y_pred))\n"
   ]
  }
 ],
 "metadata": {
  "kernelspec": {
   "display_name": "base",
   "language": "python",
   "name": "python3"
  },
  "language_info": {
   "codemirror_mode": {
    "name": "ipython",
    "version": 3
   },
   "file_extension": ".py",
   "mimetype": "text/x-python",
   "name": "python",
   "nbconvert_exporter": "python",
   "pygments_lexer": "ipython3",
   "version": "3.9.7"
  }
 },
 "nbformat": 4,
 "nbformat_minor": 2
}
