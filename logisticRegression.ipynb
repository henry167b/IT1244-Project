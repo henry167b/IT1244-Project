{
 "cells": [
  {
   "cell_type": "code",
   "execution_count": null,
   "metadata": {},
   "outputs": [],
   "source": [
    "#pip install nltk"
   ]
  },
  {
   "cell_type": "code",
   "execution_count": null,
   "metadata": {},
   "outputs": [],
   "source": [
    "#pip install spacy"
   ]
  },
  {
   "cell_type": "code",
   "execution_count": 16,
   "metadata": {},
   "outputs": [
    {
     "name": "stderr",
     "output_type": "stream",
     "text": [
      "[nltk_data] Downloading package punkt to /Users/henry/nltk_data...\n",
      "[nltk_data]   Package punkt is already up-to-date!\n",
      "[nltk_data] Downloading package stopwords to /Users/henry/nltk_data...\n",
      "[nltk_data]   Package stopwords is already up-to-date!\n"
     ]
    }
   ],
   "source": [
    "#import libraries\n",
    "import pandas as pd\n",
    "import re\n",
    "from nltk.tokenize import word_tokenize\n",
    "from nltk.corpus import stopwords\n",
    "from nltk.stem import PorterStemmer\n",
    "from sklearn.model_selection import train_test_split\n",
    "import nltk\n",
    "nltk.download('punkt')\n",
    "nltk.download('stopwords')\n",
    "import spacy\n",
    "from sklearn.preprocessing import OneHotEncoder\n",
    "import numpy as np\n",
    "from sklearn.feature_extraction.text import CountVectorizer\n",
    "import sklearn\n"
   ]
  },
  {
   "cell_type": "code",
   "execution_count": 33,
   "metadata": {},
   "outputs": [],
   "source": [
    "data = pd.DataFrame(pd.read_csv('Twitter Sentiment/cleaned_text.csv'))\n",
    "\n",
    "def helper(string):\n",
    "    temp = []\n",
    "    for word in string[1:-1].split(','):\n",
    "        word = word.strip()\n",
    "        word = word[1:-1]\n",
    "        if word:\n",
    "          temp.append(word)  \n",
    "    return temp\n",
    "data.filtered_tokens = data.filtered_tokens.apply(helper)"
   ]
  },
  {
   "cell_type": "code",
   "execution_count": 29,
   "metadata": {},
   "outputs": [
    {
     "data": {
      "text/plain": [
       "(50000, 8)"
      ]
     },
     "execution_count": 29,
     "metadata": {},
     "output_type": "execute_result"
    }
   ],
   "source": [
    "#data = data.iloc[25000:75000]\n",
    "#data.shape"
   ]
  },
  {
   "cell_type": "code",
   "execution_count": 34,
   "metadata": {},
   "outputs": [
    {
     "name": "stdout",
     "output_type": "stream",
     "text": [
      "       clocked  clauses  cara  jinx  languishing  movie  knackerrred  ads  \\\n",
      "0            0        0     0     0            0      0            0    0   \n",
      "1            0        0     0     0            0      0            0    0   \n",
      "2            0        0     0     0            0      0            0    0   \n",
      "3            0        0     0     0            0      0            0    0   \n",
      "4            0        0     0     0            0      0            0    0   \n",
      "...        ...      ...   ...   ...          ...    ...          ...  ...   \n",
      "99995        0        0     0     0            0      0            0    0   \n",
      "99996        0        0     0     0            0      0            0    0   \n",
      "99997        0        0     0     0            0      0            0    0   \n",
      "99998        0        0     0     0            0      0            0    0   \n",
      "99999        0        0     0     0            0      0            0    0   \n",
      "\n",
      "       rig  envelopes  ...  unzip  moved  someonee  folks  soda  tiiiired  \\\n",
      "0        0          0  ...      0      0         0      0     0         0   \n",
      "1        0          0  ...      0      0         0      0     0         0   \n",
      "2        0          0  ...      0      0         0      0     0         0   \n",
      "3        0          0  ...      0      0         0      0     0         0   \n",
      "4        0          0  ...      0      0         0      0     0         0   \n",
      "...    ...        ...  ...    ...    ...       ...    ...   ...       ...   \n",
      "99995    0          0  ...      0      0         0      0     0         0   \n",
      "99996    0          0  ...      0      0         0      0     0         0   \n",
      "99997    0          0  ...      0      0         0      0     0         0   \n",
      "99998    0          0  ...      0      0         0      0     0         0   \n",
      "99999    0          0  ...      0      0         0      0     0         0   \n",
      "\n",
      "       funnee  unopened  rhett  bacchus  \n",
      "0           0         0      0        0  \n",
      "1           0         0      0        0  \n",
      "2           0         0      0        0  \n",
      "3           0         0      0        0  \n",
      "4           0         0      0        0  \n",
      "...       ...       ...    ...      ...  \n",
      "99995       0         0      0        0  \n",
      "99996       0         0      0        0  \n",
      "99997       0         0      0        0  \n",
      "99998       0         0      0        0  \n",
      "99999       0         0      0        0  \n",
      "\n",
      "[100000 rows x 50661 columns]\n"
     ]
    }
   ],
   "source": [
    "# One hot encoding\n",
    "categories = list(set([item for sublist in data.filtered_tokens for item in sublist]))\n",
    "#print(categories)\n",
    "\n",
    "vectorizer = CountVectorizer(binary=True, vocabulary=categories)\n",
    "sentences = [' '.join(words) for words in data['filtered_tokens']]\n",
    "\n",
    "# Fit and transform the sentences\n",
    "one_hot_encoded = vectorizer.fit_transform(sentences)\n",
    "\n",
    "# Convert the one-hot encoded data to a DataFrame\n",
    "encoded_df = pd.DataFrame(one_hot_encoded.toarray(), columns = categories)\n",
    "\n",
    "# use the print function to check if the one hot encoding is correct\n",
    "#print(encoded_df.iloc[954,:].sum(),sentences[954]) \n",
    "print(encoded_df)\n",
    "#print(categories)\n"
   ]
  },
  {
   "cell_type": "code",
   "execution_count": 31,
   "metadata": {},
   "outputs": [
    {
     "name": "stdout",
     "output_type": "stream",
     "text": [
      "25000\n"
     ]
    }
   ],
   "source": [
    "count = (data['labels'] == 0).sum()\n",
    "print(count)"
   ]
  },
  {
   "cell_type": "code",
   "execution_count": 35,
   "metadata": {},
   "outputs": [
    {
     "name": "stdout",
     "output_type": "stream",
     "text": [
      "(50000, 8)\n",
      "(50000, 50661)\n"
     ]
    }
   ],
   "source": [
    "data = data.iloc[25000:75000]\n",
    "encoded_df = encoded_df.iloc[25000:75000]\n",
    "\n",
    "print(data.shape)\n",
    "print(encoded_df.shape)"
   ]
  },
  {
   "cell_type": "code",
   "execution_count": 36,
   "metadata": {},
   "outputs": [],
   "source": [
    "# Split the dataset\n",
    "\n",
    "X_train, X_test, y_train, y_test=train_test_split(encoded_df, data['labels'], stratify=data['labels'], test_size=0.2, random_state=42)"
   ]
  },
  {
   "cell_type": "code",
   "execution_count": 37,
   "metadata": {},
   "outputs": [
    {
     "name": "stdout",
     "output_type": "stream",
     "text": [
      "73903    1\n",
      "35174    0\n",
      "46519    0\n",
      "34815    0\n",
      "31895    0\n",
      "        ..\n",
      "65542    1\n",
      "36522    0\n",
      "48743    0\n",
      "42799    0\n",
      "38724    0\n",
      "Name: labels, Length: 40000, dtype: int64\n"
     ]
    },
    {
     "data": {
      "text/plain": [
       "40000"
      ]
     },
     "execution_count": 37,
     "metadata": {},
     "output_type": "execute_result"
    }
   ],
   "source": [
    "print(y_train)\n",
    "len(y_train)"
   ]
  },
  {
   "cell_type": "code",
   "execution_count": 38,
   "metadata": {},
   "outputs": [],
   "source": [
    "#Logistic Regression \n",
    "\n",
    "def sigmoid(x):\n",
    "    return 1/(1+np.exp(-x))\n",
    "\n",
    "class LogisticRegression():\n",
    "\n",
    "    def __init__(self, LR = 0.01, n_iterations = 1000):\n",
    "        self.LR = LR\n",
    "        self.n_iterations = n_iterations\n",
    "        self.weights = None\n",
    "        self.bias = None\n",
    "\n",
    "    def fit(self, X, y):\n",
    "        n_samples, n_features = X.shape \n",
    "        self.weights = np.zeros(n_features)\n",
    "        self.bias = 0 \n",
    "\n",
    "        for i in range(self.n_iterations):\n",
    "            linear_prediction = np.dot(X, self.weights) + self.bias\n",
    "            predictions = sigmoid(linear_prediction)\n",
    "\n",
    "            dw = (1/n_samples) * np.dot(X.T, (predictions - y))\n",
    "            db = (1/n_samples) * np.sum(predictions - y)\n",
    "\n",
    "            self.weights = self.weights - self.LR * dw\n",
    "            self.bias = self.bias - self.LR * db \n",
    "\n",
    "    def predict(self, X):\n",
    "        linear_prediction = np.dot(X, self.weights) + self.bias \n",
    "        y_pred = sigmoid(linear_prediction)\n",
    "        class_pred = [0 if y <= 0.5 else 1 for y in y_pred]\n",
    "\n",
    "        return class_pred"
   ]
  },
  {
   "cell_type": "code",
   "execution_count": 39,
   "metadata": {},
   "outputs": [
    {
     "name": "stderr",
     "output_type": "stream",
     "text": [
      "/Users/henry/opt/anaconda3/lib/python3.9/site-packages/sklearn/linear_model/_logistic.py:763: ConvergenceWarning: lbfgs failed to converge (status=1):\n",
      "STOP: TOTAL NO. of ITERATIONS REACHED LIMIT.\n",
      "\n",
      "Increase the number of iterations (max_iter) or scale the data as shown in:\n",
      "    https://scikit-learn.org/stable/modules/preprocessing.html\n",
      "Please also refer to the documentation for alternative solver options:\n",
      "    https://scikit-learn.org/stable/modules/linear_model.html#logistic-regression\n",
      "  n_iter_i = _check_optimize_result(\n"
     ]
    }
   ],
   "source": [
    "clf = sklearn.linear_model.LogisticRegression(random_state = 42).fit(X_train, y_train)\n"
   ]
  },
  {
   "cell_type": "code",
   "execution_count": 24,
   "metadata": {},
   "outputs": [],
   "source": [
    "y_pred = clf.predict(X_test)"
   ]
  },
  {
   "cell_type": "code",
   "execution_count": 27,
   "metadata": {},
   "outputs": [
    {
     "name": "stdout",
     "output_type": "stream",
     "text": [
      "Accuracy: 0.729\n",
      "Classification Report:\n",
      "              precision    recall  f1-score   support\n",
      "\n",
      "           0       0.75      0.69      0.72      1000\n",
      "           1       0.71      0.77      0.74      1000\n",
      "\n",
      "    accuracy                           0.73      2000\n",
      "   macro avg       0.73      0.73      0.73      2000\n",
      "weighted avg       0.73      0.73      0.73      2000\n",
      "\n"
     ]
    }
   ],
   "source": [
    "from sklearn.metrics import accuracy_score, classification_report\n",
    "# Evaluate the model\n",
    "accuracy = accuracy_score(y_test, y_pred)\n",
    "classification_rep = classification_report(y_test, y_pred)\n",
    "\n",
    "print(f'Accuracy: {accuracy}')\n",
    "print(f'Classification Report:\\n{classification_rep}')"
   ]
  }
 ],
 "metadata": {
  "kernelspec": {
   "display_name": "base",
   "language": "python",
   "name": "python3"
  },
  "language_info": {
   "codemirror_mode": {
    "name": "ipython",
    "version": 3
   },
   "file_extension": ".py",
   "mimetype": "text/x-python",
   "name": "python",
   "nbconvert_exporter": "python",
   "pygments_lexer": "ipython3",
   "version": "3.9.7"
  },
  "orig_nbformat": 4
 },
 "nbformat": 4,
 "nbformat_minor": 2
}
