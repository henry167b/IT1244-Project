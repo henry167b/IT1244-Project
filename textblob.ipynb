{
 "cells": [
  {
   "cell_type": "code",
   "execution_count": 4,
   "metadata": {},
   "outputs": [
    {
     "name": "stdout",
     "output_type": "stream",
     "text": [
      "Requirement already satisfied: textBlob in c:\\users\\josiah lee\\appdata\\local\\programs\\python\\python310\\lib\\site-packages (0.17.1)\n",
      "Requirement already satisfied: nltk>=3.1 in c:\\users\\josiah lee\\appdata\\local\\programs\\python\\python310\\lib\\site-packages (from textBlob) (3.8.1)\n",
      "Requirement already satisfied: click in c:\\users\\josiah lee\\appdata\\local\\programs\\python\\python310\\lib\\site-packages (from nltk>=3.1->textBlob) (8.1.7)\n",
      "Requirement already satisfied: joblib in c:\\users\\josiah lee\\appdata\\local\\programs\\python\\python310\\lib\\site-packages (from nltk>=3.1->textBlob) (1.3.2)\n",
      "Requirement already satisfied: regex>=2021.8.3 in c:\\users\\josiah lee\\appdata\\local\\programs\\python\\python310\\lib\\site-packages (from nltk>=3.1->textBlob) (2023.10.3)\n",
      "Requirement already satisfied: tqdm in c:\\users\\josiah lee\\appdata\\local\\programs\\python\\python310\\lib\\site-packages (from nltk>=3.1->textBlob) (4.66.1)\n",
      "Requirement already satisfied: colorama in c:\\users\\josiah lee\\appdata\\local\\programs\\python\\python310\\lib\\site-packages (from click->nltk>=3.1->textBlob) (0.4.6)\n",
      "Note: you may need to restart the kernel to use updated packages.\n"
     ]
    },
    {
     "name": "stderr",
     "output_type": "stream",
     "text": [
      "\n",
      "[notice] A new release of pip is available: 23.2.1 -> 23.3\n",
      "[notice] To update, run: python.exe -m pip install --upgrade pip\n"
     ]
    }
   ],
   "source": [
    "pip install textBlob"
   ]
  },
  {
   "cell_type": "code",
   "execution_count": 5,
   "metadata": {},
   "outputs": [],
   "source": [
    "#import libraries\n",
    "import pandas as pd\n",
    "import numpy as np\n",
    "from textblob import TextBlob"
   ]
  },
  {
   "cell_type": "code",
   "execution_count": null,
   "metadata": {},
   "outputs": [],
   "source": []
  }
 ],
 "metadata": {
  "kernelspec": {
   "display_name": "Python 3",
   "language": "python",
   "name": "python3"
  },
  "language_info": {
   "codemirror_mode": {
    "name": "ipython",
    "version": 3
   },
   "file_extension": ".py",
   "mimetype": "text/x-python",
   "name": "python",
   "nbconvert_exporter": "python",
   "pygments_lexer": "ipython3",
   "version": "3.10.2"
  }
 },
 "nbformat": 4,
 "nbformat_minor": 2
}
